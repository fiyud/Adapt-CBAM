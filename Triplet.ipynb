{
 "cells": [
  {
   "cell_type": "code",
   "execution_count": 1,
   "id": "d1a749b2",
   "metadata": {},
   "outputs": [
    {
     "name": "stdout",
     "output_type": "stream",
     "text": [
      "[WinError 2] The system cannot find the file specified: 'Adapt-CBAM'\n",
      "d:\\NCKH.2025-2026\\WAVC\\Adapt-CBAM\n"
     ]
    }
   ],
   "source": [
    "%cd Adapt-CBAM"
   ]
  },
  {
   "cell_type": "code",
   "execution_count": null,
   "id": "20ee4e37",
   "metadata": {},
   "outputs": [],
   "source": [
    "!python train_imagenet_adapt_cbam.py \\\n",
    "  --dataset CIFAR10 \\\n",
    "  --ngpu 2 \\\n",
    "  --workers 8 \\\n",
    "  --arch resnet \\\n",
    "  --depth 50 \\\n",
    "  --epochs 100 \\\n",
    "  --batch-size 256 \\\n",
    "  --lr 0.1 \\\n",
    "  --att-type CBAM \\\n",
    "  --prefix RESNET50_CIFAR10_CBAM \\\n",
    "  ./data"
   ]
  },
  {
   "cell_type": "code",
   "execution_count": null,
   "id": "6317248c",
   "metadata": {},
   "outputs": [],
   "source": [
    "!python train_imagenet_adapt_cbam.py \\\n",
    "  --dataset CIFAR10 \\\n",
    "  --ngpu 2 \\\n",
    "  --workers 8 \\\n",
    "  --arch resnet \\\n",
    "  --depth 50 \\\n",
    "  --epochs 100 \\\n",
    "  --batch-size 256 \\\n",
    "  --lr 0.1 \\\n",
    "  --att-type CBAM \\\n",
    "  --prefix RESNET50_CIFAR10_CBAM \\\n",
    "  ./data"
   ]
  }
 ],
 "metadata": {
  "kernelspec": {
   "display_name": "gno2",
   "language": "python",
   "name": "python3"
  },
  "language_info": {
   "codemirror_mode": {
    "name": "ipython",
    "version": 3
   },
   "file_extension": ".py",
   "mimetype": "text/x-python",
   "name": "python",
   "nbconvert_exporter": "python",
   "pygments_lexer": "ipython3",
   "version": "3.11.10"
  }
 },
 "nbformat": 4,
 "nbformat_minor": 5
}
